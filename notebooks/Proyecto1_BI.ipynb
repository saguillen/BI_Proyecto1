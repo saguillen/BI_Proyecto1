{
  "nbformat": 4,
  "nbformat_minor": 0,
  "metadata": {
    "colab": {
      "provenance": []
    },
    "kernelspec": {
      "name": "python3",
      "display_name": "Python 3"
    },
    "language_info": {
      "name": "python"
    }
  },
  "cells": [
    {
      "cell_type": "markdown",
      "source": [
        "# Proyecto 1 - Inteligencia de Negocios\n"
      ],
      "metadata": {
        "id": "y2ckaUjcDJAs"
      }
    },
    {
      "cell_type": "code",
      "execution_count": null,
      "metadata": {
        "id": "Dy-xUQAaC_kn"
      },
      "outputs": [],
      "source": []
    }
  ]
}